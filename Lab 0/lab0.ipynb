{
 "cells": [
  {
   "cell_type": "code",
   "execution_count": 1,
   "id": "8aa2e0f3-35b0-4cb8-8ed6-5f26505d1752",
   "metadata": {},
   "outputs": [
    {
     "data": {
      "text/plain": [
       "10"
      ]
     },
     "execution_count": 1,
     "metadata": {},
     "output_type": "execute_result"
    }
   ],
   "source": [
    "N = ord(\"O\") % 10 + 1\n",
    "N"
   ]
  },
  {
   "cell_type": "markdown",
   "id": "13bdc99a-e9ec-45f8-a4bd-e581e36d6298",
   "metadata": {},
   "source": [
    "# Норвегія (Norway)\n",
    "\n",
    "<div style=\"border: 3px solid blue; padding: 20px; margin: 15px; border-radius: 10px; color: red\">\n",
    "    Норвегія - це скандинавська країна, що знаходиться на півночі Європи, відома своєю багатою історією, культурою, а також мальовничими пейзажами.\n",
    "</div>\n",
    "\n",
    "---\n",
    "\n",
    "- **Столиця**\n",
    "    - *Осло* \n",
    "- **Площа:**\n",
    "    - *385 207 км<sup>2</sup>*\n",
    "- **Населення**\n",
    "    - *5,4 мільйона осіб*\n",
    "- **Державний устрій**\n",
    "    - *Конституційна монархія*\n",
    "\n",
    "---\n",
    "\n",
    "## Герб Норвегії\n",
    "![](image.png)\n",
    "\n",
    "---\n",
    "    \n",
    "### Основні пам'ятки\n",
    "|<div>Назва</div>          |<div>Тип</div>      |<div>Розташування</div>               |\n",
    "|:--------------|:-------:|--------------------------:|\n",
    "|Нідароський собор      |Культурна|Тронгейм           |\n",
    "|Льодовик Юстедальсбрін |Природна |Південна Норвегія  |\n",
    "\n",
    "---\n",
    "\n",
    "#### Джерела інформації\n",
    "- [Норвегія в Wikipedia](https://uk.wikipedia.org/wiki/%D0%9D%D0%BE%D1%80%D0%B2%D0%B5%D0%B3%D1%96%D1%8F)\n",
    "\n",
    "#### Положення Норвегії\n",
    "![Положення Норвегії Wikipedia](https://upload.wikimedia.org/wikipedia/commons/thumb/0/01/Europe-Norway.svg/1024px-Europe-Norway.svg.png)"
   ]
  },
  {
   "cell_type": "code",
   "execution_count": 3,
   "id": "c49fc035-00a9-40a7-9df1-d3d843e6574d",
   "metadata": {},
   "outputs": [
    {
     "data": {
      "text/html": [
       "<h1>Прапор Норвегії</h1>\n",
       "<svg xmlns=\"http://www.w3.org/2000/svg\" viewBox=\"0 0 22 16\" width=\"150\" height=\"110\">\n",
       "  <rect width=\"22\" height=\"16\" fill=\"#BA0C2F\"/>\n",
       "  <rect x=\"6\" width=\"4\" height=\"16\" fill=\"#ffffff\"/>\n",
       "  <rect y=\"6\" width=\"22\" height=\"4\" fill=\"#ffffff\"/>\n",
       "  <rect x=\"7\" width=\"2\" height=\"16\" fill=\"#00205B\"/>\n",
       "  <rect y=\"7\" width=\"22\" height=\"2\" fill=\"#00205B\"/>\n",
       "</svg>\n"
      ],
      "text/plain": [
       "<IPython.core.display.HTML object>"
      ]
     },
     "metadata": {},
     "output_type": "display_data"
    }
   ],
   "source": [
    "%%html\n",
    "<h1>Прапор Норвегії</h1>\n",
    "<svg xmlns=\"http://www.w3.org/2000/svg\" viewBox=\"0 0 22 16\" width=\"150\" height=\"110\">\n",
    "  <rect width=\"22\" height=\"16\" fill=\"#BA0C2F\"/>\n",
    "  <rect x=\"6\" width=\"4\" height=\"16\" fill=\"#ffffff\"/>\n",
    "  <rect y=\"6\" width=\"22\" height=\"4\" fill=\"#ffffff\"/>\n",
    "  <rect x=\"7\" width=\"2\" height=\"16\" fill=\"#00205B\"/>\n",
    "  <rect y=\"7\" width=\"22\" height=\"2\" fill=\"#00205B\"/>\n",
    "</svg>"
   ]
  },
  {
   "cell_type": "code",
   "execution_count": 1,
   "id": "ba5c65a5-1198-434b-b14a-105994367ddd",
   "metadata": {},
   "outputs": [
    {
     "name": "stdin",
     "output_type": "stream",
     "text": [
      "Введіть число N:  8\n"
     ]
    },
    {
     "name": "stdout",
     "output_type": "stream",
     "text": [
      "2^2 + 2^2 = 8\n"
     ]
    }
   ],
   "source": [
    "def task_2():\n",
    "    N = int(input(\"Введіть число N: \"))\n",
    "    if N == 0:\n",
    "        print(\"0^2 + 0^2 = 0\")\n",
    "        return\n",
    "    right = 1\n",
    "    while right**2 <= N:\n",
    "        for left in range(right + 1):\n",
    "            if N - left**2 == right**2:\n",
    "                print(f\"{left}^2 + {right}^2 = {N}\")\n",
    "                return\n",
    "        right += 1\n",
    "    print(f\"Число {N} не можна представити квадратами цілих чисел\")\n",
    "\n",
    "task_2()"
   ]
  },
  {
   "cell_type": "code",
   "execution_count": null,
   "id": "05a61b31-fa44-4d10-a1d7-d0e2c462fd79",
   "metadata": {},
   "outputs": [],
   "source": []
  }
 ],
 "metadata": {
  "kernelspec": {
   "display_name": "Python 3 (ipykernel)",
   "language": "python",
   "name": "python3"
  },
  "language_info": {
   "codemirror_mode": {
    "name": "ipython",
    "version": 3
   },
   "file_extension": ".py",
   "mimetype": "text/x-python",
   "name": "python",
   "nbconvert_exporter": "python",
   "pygments_lexer": "ipython3",
   "version": "3.12.8"
  }
 },
 "nbformat": 4,
 "nbformat_minor": 5
}
