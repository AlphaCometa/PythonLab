{
 "cells": [
  {
   "cell_type": "code",
   "execution_count": 1,
   "id": "84692854-433a-4a60-ab3c-41ff78a47a71",
   "metadata": {},
   "outputs": [
    {
     "data": {
      "text/plain": [
       "5"
      ]
     },
     "execution_count": 1,
     "metadata": {},
     "output_type": "execute_result"
    }
   ],
   "source": [
    "N = ord(\"O\") % 5 + 1\n",
    "N"
   ]
  },
  {
   "cell_type": "code",
   "execution_count": 2,
   "id": "8f213cd1-7268-44f8-a1a9-ec7dcda1a826",
   "metadata": {},
   "outputs": [
    {
     "name": "stdout",
     "output_type": "stream",
     "text": [
      "Loading image from: Images\\ron_wesley.jpg\n",
      "The image is saved along the way: result.jpg\n"
     ]
    }
   ],
   "source": [
    "import cv2\n",
    "import numpy as np\n",
    "import pandas as pd\n",
    "import os\n",
    "\n",
    "excel_file = 'kr1.xlsx'\n",
    "df = pd.read_excel(excel_file)\n",
    "N = 5\n",
    "\n",
    "data_variant = df.loc[df['N'] == N]\n",
    "\n",
    "def process_image_from_dataframe(data_row, output_path):\n",
    "\n",
    "    face_cascade = cv2.CascadeClassifier(cv2.data.haarcascades + 'haarcascade_frontalface_default.xml')\n",
    "    eye_cascade = cv2.CascadeClassifier(cv2.data.haarcascades + 'haarcascade_eye.xml')\n",
    "\n",
    "    color_dict = {\n",
    "        'red': (255, 0, 0),\n",
    "        'blue': (0, 0, 255),\n",
    "        'cian': (0, 255, 255),\n",
    "        'magenta': (255, 0, 255),\n",
    "        'yellow': (0, 255, 255)\n",
    "    }\n",
    "    color_name = data_row['glasses color']\n",
    "    color = color_dict.get(color_name, (0, 0, 0))\n",
    "    thickness = data_row['line width']\n",
    "\n",
    "    image_path = os.path.join('Images', data_row['file name'])\n",
    "\n",
    "    print(f'Loading image from: {image_path}')\n",
    "    img = cv2.imread(image_path)\n",
    "    if img is None:\n",
    "        raise FileNotFoundError(f\"Изображение не найдено: {image_path}\")\n",
    "\n",
    "    gray = cv2.cvtColor(img, cv2.COLOR_BGR2GRAY)\n",
    "\n",
    "    faces = face_cascade.detectMultiScale(gray, scaleFactor=1.1, minNeighbors=5, minSize=(100, 100))\n",
    "\n",
    "    for (x, y, w, h) in faces:\n",
    "        roi_gray = gray[y:y+h, x:x+w]\n",
    "        roi_color = img[y:y+h, x:x+w]\n",
    "\n",
    "        eyes = eye_cascade.detectMultiScale(roi_gray)\n",
    "        if len(eyes) >= 2:\n",
    "            eyes = sorted(eyes, key=lambda e: e[0])\n",
    "            left_eye = eyes[0]\n",
    "            right_eye = eyes[1]\n",
    "\n",
    "            lx, ly = (left_eye[0] + left_eye[2] // 2, left_eye[1] + left_eye[3] // 2)\n",
    "            rx, ry = (right_eye[0] + right_eye[2] // 2, right_eye[1] + right_eye[3] // 2)\n",
    "\n",
    "            radius = max(left_eye[2], left_eye[3]) // 2\n",
    "            cv2.circle(roi_color, (lx, ly), radius, color, thickness)\n",
    "\n",
    "            radius = max(right_eye[2], right_eye[3]) // 2\n",
    "            cv2.circle(roi_color, (rx, ry), radius, color, thickness)\n",
    "\n",
    "            cv2.line(roi_color, (lx + radius, ly), (rx - radius, ry), color, thickness)\n",
    "\n",
    "    face_center = img[y:y+h, x:x+w]\n",
    "    reduced_img = cv2.resize(face_center, (500, 500))\n",
    "    cv2.imwrite(output_path, reduced_img)\n",
    "    print(f\"The image is saved along the way: {output_path}\")\n",
    "\n",
    "output_path = 'result.jpg'\n",
    "process_image_from_dataframe(data_variant.iloc[0], output_path)"
   ]
  },
  {
   "cell_type": "code",
   "execution_count": null,
   "id": "cb463676-2ed7-4f3e-a9df-29577346aa5e",
   "metadata": {},
   "outputs": [],
   "source": []
  }
 ],
 "metadata": {
  "kernelspec": {
   "display_name": "Python 3 (ipykernel)",
   "language": "python",
   "name": "python3"
  },
  "language_info": {
   "codemirror_mode": {
    "name": "ipython",
    "version": 3
   },
   "file_extension": ".py",
   "mimetype": "text/x-python",
   "name": "python",
   "nbconvert_exporter": "python",
   "pygments_lexer": "ipython3",
   "version": "3.12.8"
  }
 },
 "nbformat": 4,
 "nbformat_minor": 5
}
