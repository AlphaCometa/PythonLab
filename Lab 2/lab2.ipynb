{
 "cells": [
  {
   "cell_type": "code",
   "execution_count": 1,
   "id": "0afa863a-155f-4b36-9c4b-b03a31fd208e",
   "metadata": {},
   "outputs": [
    {
     "data": {
      "text/plain": [
       "5"
      ]
     },
     "execution_count": 1,
     "metadata": {},
     "output_type": "execute_result"
    }
   ],
   "source": [
    "N = (15 + 4 ) % 5 + 1\n",
    "N"
   ]
  },
  {
   "cell_type": "markdown",
   "id": "a7bd0e44-3ade-4152-b46f-6800aa496835",
   "metadata": {},
   "source": [
    "#### Вправа 2"
   ]
  },
  {
   "cell_type": "code",
   "execution_count": 2,
   "id": "2782b866-f105-463c-8086-f1ca53303444",
   "metadata": {},
   "outputs": [
    {
     "data": {
      "text/html": [
       "<div>\n",
       "<style scoped>\n",
       "    .dataframe tbody tr th:only-of-type {\n",
       "        vertical-align: middle;\n",
       "    }\n",
       "\n",
       "    .dataframe tbody tr th {\n",
       "        vertical-align: top;\n",
       "    }\n",
       "\n",
       "    .dataframe thead th {\n",
       "        text-align: right;\n",
       "    }\n",
       "</style>\n",
       "<table border=\"1\" class=\"dataframe\">\n",
       "  <thead>\n",
       "    <tr style=\"text-align: right;\">\n",
       "      <th></th>\n",
       "      <th>Id</th>\n",
       "      <th>Name</th>\n",
       "      <th>Year</th>\n",
       "      <th>Gender</th>\n",
       "      <th>Count</th>\n",
       "    </tr>\n",
       "  </thead>\n",
       "  <tbody>\n",
       "    <tr>\n",
       "      <th>1825425</th>\n",
       "      <td>1825426</td>\n",
       "      <td>Zo</td>\n",
       "      <td>2014</td>\n",
       "      <td>M</td>\n",
       "      <td>5</td>\n",
       "    </tr>\n",
       "    <tr>\n",
       "      <th>1825426</th>\n",
       "      <td>1825427</td>\n",
       "      <td>Zyeir</td>\n",
       "      <td>2014</td>\n",
       "      <td>M</td>\n",
       "      <td>5</td>\n",
       "    </tr>\n",
       "    <tr>\n",
       "      <th>1825427</th>\n",
       "      <td>1825428</td>\n",
       "      <td>Zyel</td>\n",
       "      <td>2014</td>\n",
       "      <td>M</td>\n",
       "      <td>5</td>\n",
       "    </tr>\n",
       "    <tr>\n",
       "      <th>1825428</th>\n",
       "      <td>1825429</td>\n",
       "      <td>Zykeem</td>\n",
       "      <td>2014</td>\n",
       "      <td>M</td>\n",
       "      <td>5</td>\n",
       "    </tr>\n",
       "    <tr>\n",
       "      <th>1825429</th>\n",
       "      <td>1825430</td>\n",
       "      <td>Zymeer</td>\n",
       "      <td>2014</td>\n",
       "      <td>M</td>\n",
       "      <td>5</td>\n",
       "    </tr>\n",
       "    <tr>\n",
       "      <th>1825430</th>\n",
       "      <td>1825431</td>\n",
       "      <td>Zymiere</td>\n",
       "      <td>2014</td>\n",
       "      <td>M</td>\n",
       "      <td>5</td>\n",
       "    </tr>\n",
       "    <tr>\n",
       "      <th>1825431</th>\n",
       "      <td>1825432</td>\n",
       "      <td>Zyran</td>\n",
       "      <td>2014</td>\n",
       "      <td>M</td>\n",
       "      <td>5</td>\n",
       "    </tr>\n",
       "    <tr>\n",
       "      <th>1825432</th>\n",
       "      <td>1825433</td>\n",
       "      <td>Zyrin</td>\n",
       "      <td>2014</td>\n",
       "      <td>M</td>\n",
       "      <td>5</td>\n",
       "    </tr>\n",
       "  </tbody>\n",
       "</table>\n",
       "</div>"
      ],
      "text/plain": [
       "              Id     Name  Year Gender  Count\n",
       "1825425  1825426       Zo  2014      M      5\n",
       "1825426  1825427    Zyeir  2014      M      5\n",
       "1825427  1825428     Zyel  2014      M      5\n",
       "1825428  1825429   Zykeem  2014      M      5\n",
       "1825429  1825430   Zymeer  2014      M      5\n",
       "1825430  1825431  Zymiere  2014      M      5\n",
       "1825431  1825432    Zyran  2014      M      5\n",
       "1825432  1825433    Zyrin  2014      M      5"
      ]
     },
     "execution_count": 2,
     "metadata": {},
     "output_type": "execute_result"
    }
   ],
   "source": [
    "import pandas as pd\n",
    "\n",
    "file_path = 'NationalNames.csv'\n",
    "df = pd.read_csv(file_path)\n",
    "\n",
    "df.tail(8)"
   ]
  },
  {
   "cell_type": "markdown",
   "id": "36a26e77-d878-42c2-9e68-e04c5c758834",
   "metadata": {},
   "source": [
    "#### Вправа 4"
   ]
  },
  {
   "cell_type": "code",
   "execution_count": 3,
   "id": "b88fa642-0592-4151-83ec-66c6550d3a3f",
   "metadata": {},
   "outputs": [
    {
     "name": "stdout",
     "output_type": "stream",
     "text": [
      "                 Id          Year         Count\n",
      "count  1.825433e+06  1.825433e+06  1.825433e+06\n",
      "mean   9.127170e+05  1.972620e+03  1.846879e+02\n",
      "std    5.269573e+05  3.352891e+01  1.566711e+03\n",
      "min    1.000000e+00  1.880000e+03  5.000000e+00\n",
      "25%    4.563590e+05  1.949000e+03  7.000000e+00\n",
      "50%    9.127170e+05  1.982000e+03  1.200000e+01\n",
      "75%    1.369075e+06  2.001000e+03  3.200000e+01\n",
      "max    1.825433e+06  2.014000e+03  9.968000e+04\n"
     ]
    }
   ],
   "source": [
    "import pandas as pds\n",
    "\n",
    "file_path = 'NationalNames.csv' \n",
    "data = pd.read_csv(file_path)\n",
    "\n",
    "data_info = data.describe()\n",
    "print(data_info)"
   ]
  },
  {
   "cell_type": "markdown",
   "id": "ced5cdca-5862-4091-9529-3debd9e23d20",
   "metadata": {},
   "source": [
    "#### Вправа 6"
   ]
  },
  {
   "cell_type": "code",
   "execution_count": 5,
   "id": "231cdd6d-82ab-454f-aa76-6a8fa003a5ae",
   "metadata": {},
   "outputs": [
    {
     "name": "stdout",
     "output_type": "stream",
     "text": [
      "Gender\n",
      "F    64911\n",
      "M    39199\n",
      "Name: Name, dtype: int64\n"
     ]
    }
   ],
   "source": [
    "import pandas as pd\n",
    "\n",
    "file_path = 'NationalNames.csv'\n",
    "data = pd.read_csv(file_path)\n",
    "\n",
    "unique_names = data.groupby('Gender')['Name'].nunique()\n",
    "\n",
    "print(unique_names)"
   ]
  },
  {
   "cell_type": "markdown",
   "id": "9712214a-44c7-4d4f-b74e-005f9246c397",
   "metadata": {},
   "source": [
    "#### Вправа 7"
   ]
  },
  {
   "cell_type": "code",
   "execution_count": 6,
   "id": "670bc87c-c189-4f9e-9779-c513500c24f2",
   "metadata": {},
   "outputs": [
    {
     "name": "stdout",
     "output_type": "stream",
     "text": [
      "              Id     Name  Year Gender  Count\n",
      "1677392  1677393    Jacob  2010      M  22082\n",
      "1677393  1677394    Ethan  2010      M  17985\n",
      "1677394  1677395  Michael  2010      M  17308\n",
      "1677395  1677396   Jayden  2010      M  17152\n",
      "1677396  1677397  William  2010      M  17030\n"
     ]
    }
   ],
   "source": [
    "import pandas as pd\n",
    "\n",
    "file_path = 'NationalNames.csv'\n",
    "data = pd.read_csv(file_path)\n",
    "\n",
    "data_2010_male = data[(data['Year'] == 2010) & (data['Gender'] == 'M')]\n",
    "\n",
    "top_5_names = data_2010_male.sort_values('Count', ascending=False).head(5)\n",
    "\n",
    "print(top_5_names)"
   ]
  },
  {
   "cell_type": "markdown",
   "id": "81309f7c-0bd2-4221-bff3-c623102eed02",
   "metadata": {},
   "source": [
    "#### Вправа 9"
   ]
  },
  {
   "cell_type": "code",
   "execution_count": 7,
   "id": "d9916de4-918f-4604-96ec-2fe76465cacd",
   "metadata": {},
   "outputs": [
    {
     "name": "stdout",
     "output_type": "stream",
     "text": [
      "254615\n"
     ]
    }
   ],
   "source": [
    "import pandas as pd\n",
    "\n",
    "file_path = 'NationalNames.csv'\n",
    "data = pd.read_csv(file_path)\n",
    "min_count = data['Count'].min()\n",
    "count_with_min = data[data['Count'] == min_count].shape[0]\n",
    "\n",
    "print(count_with_min)"
   ]
  },
  {
   "cell_type": "markdown",
   "id": "0c33cd04-831e-4990-8b20-1d0e13610e9e",
   "metadata": {},
   "source": [
    "#### Вправа 10"
   ]
  },
  {
   "cell_type": "code",
   "execution_count": 8,
   "id": "1a93c9d4-79cd-4de6-9795-7bc56448b932",
   "metadata": {},
   "outputs": [
    {
     "name": "stdout",
     "output_type": "stream",
     "text": [
      "Year\n",
      "1880     1889\n",
      "1881     1830\n",
      "1882     2012\n",
      "1883     1962\n",
      "1884     2158\n",
      "        ...  \n",
      "2010    31603\n",
      "2011    31418\n",
      "2012    31236\n",
      "2013    30774\n",
      "2014    30579\n",
      "Name: Name, Length: 135, dtype: int64\n"
     ]
    }
   ],
   "source": [
    "import pandas as pd\n",
    "\n",
    "file_path = 'NationalNames.csv'\n",
    "data = pd.read_csv(file_path)\n",
    "unique_names_by_year = data.groupby('Year')['Name'].nunique()\n",
    "\n",
    "print(unique_names_by_year)"
   ]
  },
  {
   "cell_type": "markdown",
   "id": "056a0148-9d44-4bbd-932a-305f90d499b5",
   "metadata": {},
   "source": [
    "#### Вправа 15"
   ]
  },
  {
   "cell_type": "code",
   "execution_count": 9,
   "id": "79483921-3619-4295-b46b-2a98415c1ec1",
   "metadata": {},
   "outputs": [
    {
     "name": "stdout",
     "output_type": "stream",
     "text": [
      "Year\n",
      "1880     201484\n",
      "1881     192699\n",
      "1882     221538\n",
      "1883     216950\n",
      "1884     243467\n",
      "         ...   \n",
      "2010    3686589\n",
      "2011    3646730\n",
      "2012    3643336\n",
      "2013    3626802\n",
      "2014    3670151\n",
      "Name: Count, Length: 135, dtype: int64\n"
     ]
    }
   ],
   "source": [
    "import pandas as pd\n",
    "\n",
    "file_path = 'NationalNames.csv'\n",
    "data = pd.read_csv(file_path)\n",
    "birth_by_year = data.groupby('Year')[\"Count\"].sum()\n",
    "\n",
    "print(birth_by_year)"
   ]
  },
  {
   "cell_type": "markdown",
   "id": "9525e5a6-47eb-4dfd-bedb-874ab3d02c92",
   "metadata": {},
   "source": [
    "#### Вправа 16"
   ]
  },
  {
   "cell_type": "code",
   "execution_count": 10,
   "id": "21ac821b-eac4-42bc-957d-6f19747b9c60",
   "metadata": {},
   "outputs": [
    {
     "name": "stdout",
     "output_type": "stream",
     "text": [
      "1947\n"
     ]
    }
   ],
   "source": [
    "import pandas as pd\n",
    "\n",
    "file_path = 'NationalNames.csv'\n",
    "data = pd.read_csv(file_path)\n",
    "max_births = data['Count'].idxmax()\n",
    "year_with_max_births = data.loc[max_births, 'Year']\n",
    "print(year_with_max_births)"
   ]
  },
  {
   "cell_type": "markdown",
   "id": "eaf8c8b0-6e07-4032-9a0d-59dc0880dd58",
   "metadata": {},
   "source": [
    "#### Вправа 17"
   ]
  },
  {
   "cell_type": "code",
   "execution_count": 11,
   "id": "e341db8e-2912-4b23-9b67-6455e26f9d24",
   "metadata": {},
   "outputs": [
    {
     "name": "stdout",
     "output_type": "stream",
     "text": [
      "            F        M\n",
      "Year                  \n",
      "1880    90993   110491\n",
      "1881    91954   100745\n",
      "1882   107850   113688\n",
      "1883   112321   104629\n",
      "1884   129022   114445\n",
      "...       ...      ...\n",
      "2010  1772738  1913851\n",
      "2011  1753500  1893230\n",
      "2012  1753922  1889414\n",
      "2013  1745339  1881463\n",
      "2014  1768775  1901376\n",
      "\n",
      "[135 rows x 2 columns]\n"
     ]
    }
   ],
   "source": [
    "import pandas as pd\n",
    "\n",
    "data = pd.read_csv('NationalNames.csv')\n",
    "\n",
    "genderCountByYear = data.groupby(['Year', 'Gender'])['Count'].sum().unstack()\n",
    "\n",
    "genderCountByYear.columns = ['F', 'M']\n",
    "\n",
    "print(genderCountByYear)"
   ]
  },
  {
   "cell_type": "markdown",
   "id": "02212220-c598-46d1-af92-9b2eabf42297",
   "metadata": {},
   "source": [
    "#### Вправа 18"
   ]
  },
  {
   "cell_type": "code",
   "execution_count": 12,
   "id": "b193b147-ad80-40ea-b7b0-47aa7d172297",
   "metadata": {},
   "outputs": [
    {
     "name": "stdout",
     "output_type": "stream",
     "text": [
      "54\n"
     ]
    }
   ],
   "source": [
    "import pandas as pd\n",
    "\n",
    "data = pd.read_csv('NationalNames.csv')\n",
    "\n",
    "female_data = data[data['Gender'] == 'F']\n",
    "male_data = data[data['Gender'] == 'M']\n",
    "\n",
    "female_counts_per_year = female_data.groupby('Year')['Count'].sum()\n",
    "male_counts_per_year = male_data.groupby('Year')['Count'].sum()\n",
    "\n",
    "years_more_females = (female_counts_per_year > male_counts_per_year)\n",
    "\n",
    "count_years_more_females = years_more_females.sum()\n",
    "\n",
    "print(count_years_more_females)"
   ]
  },
  {
   "cell_type": "markdown",
   "id": "00ae0a43-f503-4f9f-824a-c3d6d07a2056",
   "metadata": {},
   "source": [
    "#### Вправа 20"
   ]
  },
  {
   "cell_type": "code",
   "execution_count": 13,
   "id": "85f1941c-05e7-4c38-811a-179b49115ae5",
   "metadata": {},
   "outputs": [
    {
     "name": "stdout",
     "output_type": "stream",
     "text": [
      "10221\n"
     ]
    }
   ],
   "source": [
    "import pandas as pd\n",
    "\n",
    "data = pd.read_csv('NationalNames.csv')\n",
    "\n",
    "gender_counts = data.groupby('Name')['Gender'].nunique()\n",
    "\n",
    "neutral_names = gender_counts[gender_counts == 2]\n",
    "\n",
    "count_neutral_names = len(neutral_names)\n",
    "\n",
    "print(count_neutral_names)"
   ]
  },
  {
   "cell_type": "markdown",
   "id": "c7de791e-9cee-4b4e-9e6d-19ad8eadc985",
   "metadata": {},
   "source": [
    "#### Вправа 21"
   ]
  },
  {
   "cell_type": "code",
   "execution_count": 14,
   "id": "1ee07d52-ab04-4ee9-8de2-d412dce117b8",
   "metadata": {},
   "outputs": [
    {
     "name": "stdout",
     "output_type": "stream",
     "text": [
      "4139\n"
     ]
    }
   ],
   "source": [
    "import pandas as pd\n",
    "\n",
    "data = pd.read_csv('NationalNames.csv')\n",
    "\n",
    "boys_named_barbara = (data[(data['Name'] == 'Barbara') & (data['Gender'] == 'M')]).sum()\n",
    "\n",
    "print(boys_named_barbara['Count'])"
   ]
  },
  {
   "cell_type": "markdown",
   "id": "7fe5cc1e-6139-449a-9cda-ef1200b2f0c8",
   "metadata": {},
   "source": [
    "#### Вправа 22"
   ]
  },
  {
   "cell_type": "code",
   "execution_count": 15,
   "id": "4c4c96e2-81ab-4214-8b8b-c1023ef5d4c7",
   "metadata": {},
   "outputs": [
    {
     "name": "stdout",
     "output_type": "stream",
     "text": [
      "Спостереження проводилось 135 років\n"
     ]
    }
   ],
   "source": [
    "import pandas as pd\n",
    "\n",
    "data = pd.read_csv('NationalNames.csv')\n",
    "min_year = data['Year'].min()\n",
    "max_year = data['Year'].max()\n",
    "\n",
    "years_observed = max_year - min_year + 1\n",
    "\n",
    "print(f\"Спостереження проводилось {years_observed} років\")"
   ]
  },
  {
   "cell_type": "markdown",
   "id": "73f11f31-1849-4888-833e-a84d0727fe80",
   "metadata": {},
   "source": [
    "#### Вправа 23"
   ]
  },
  {
   "cell_type": "code",
   "execution_count": 16,
   "id": "681a6b7b-2e9b-4aa3-ac71-5ce59b558e35",
   "metadata": {},
   "outputs": [
    {
     "name": "stdout",
     "output_type": "stream",
     "text": [
      "Name\n",
      "Jessie     270\n",
      "Ollie      270\n",
      "Jesse      270\n",
      "Tommie     270\n",
      "Johnnie    270\n",
      "Leslie     270\n",
      "Marion     270\n",
      "Sidney     270\n",
      "James      270\n",
      "Robert     270\n",
      "William    270\n",
      "John       270\n",
      "Jean       270\n",
      "Lee        270\n",
      "Francis    270\n",
      "Name: count, dtype: int64\n"
     ]
    }
   ],
   "source": [
    "import pandas as pd\n",
    "\n",
    "data = pd.read_csv('NationalNames.csv')\n",
    "names = data['Name'].tolist()\n",
    "\n",
    "name_counts = data['Name'].value_counts()\n",
    "\n",
    "print(name_counts.head(15))"
   ]
  },
  {
   "cell_type": "markdown",
   "id": "931fd5ea-cec1-46e7-b104-bb15985e49c9",
   "metadata": {},
   "source": [
    "#### Вправа 24"
   ]
  },
  {
   "cell_type": "code",
   "execution_count": 17,
   "id": "e6956835-adff-458d-8c25-703e4fbfff78",
   "metadata": {},
   "outputs": [
    {
     "name": "stdout",
     "output_type": "stream",
     "text": [
      "Найпопулярніше серед непопулярних імен:\n",
      "Ім'я: Aaren, Кількість: 999\n"
     ]
    }
   ],
   "source": [
    "import pandas as pd\n",
    "\n",
    "data = pd.read_csv('NationalNames.csv')\n",
    "\n",
    "name_counts = data.groupby('Name')['Count'].sum().reset_index()\n",
    "\n",
    "popularity_threshold = 1000\n",
    "\n",
    "unpopular_names = name_counts[name_counts['Count'] < popularity_threshold]\n",
    "\n",
    "most_popular_unpopular_name = unpopular_names.loc[unpopular_names['Count'].idxmax()]\n",
    "\n",
    "print(\"Найпопулярніше серед непопулярних імен:\")\n",
    "print(f\"Ім'я: {most_popular_unpopular_name['Name']}, Кількість: {most_popular_unpopular_name['Count']}\")"
   ]
  },
  {
   "cell_type": "markdown",
   "id": "25b586e0-72b2-4fff-a9e3-fac30d71a2ca",
   "metadata": {},
   "source": [
    "#### Вправа 25"
   ]
  },
  {
   "cell_type": "code",
   "execution_count": 18,
   "id": "df42188a-d2ac-4a83-b805-a55fbdc9d069",
   "metadata": {},
   "outputs": [
    {
     "data": {
      "text/plain": [
       "<Figure size 1000x600 with 0 Axes>"
      ]
     },
     "metadata": {},
     "output_type": "display_data"
    },
    {
     "data": {
      "image/png": "[encoded data removed]",
      "text/plain": [
       "<Figure size 640x480 with 1 Axes>"
      ]
     },
     "metadata": {},
     "output_type": "display_data"
    }
   ],
   "source": [
    "import pandas as pd\n",
    "import matplotlib.pyplot as plt\n",
    "\n",
    "data = pd.read_csv('NationalNames.csv')\n",
    "\n",
    "names_of_interest = data[data['Name'].isin(['John', 'Mary'])]\n",
    "\n",
    "grouped = names_of_interest.groupby(['Year', 'Name'])['Count'].sum().unstack(fill_value=0)\n",
    "\n",
    "plt.figure(figsize=(10, 6))\n",
    "grouped.plot(kind='line')\n",
    "\n",
    "plt.title('Динаміка популярності імен John та Mary в США (1880-2019)')\n",
    "plt.xlabel('Рік')\n",
    "plt.ylabel('Кількість новонароджених')\n",
    "plt.legend(title='Ім\\'я')\n",
    "plt.grid(True)\n",
    "\n",
    "plt.show()"
   ]
  },
  {
   "cell_type": "markdown",
   "id": "3344c552-e6af-4c3b-aa27-b45217bd57af",
   "metadata": {},
   "source": [
    "#### Вправа 26"
   ]
  },
  {
   "cell_type": "code",
   "execution_count": 19,
   "id": "49a3e0b1-00ae-4b70-964a-d53ff110a2e6",
   "metadata": {},
   "outputs": [
    {
     "data": {
      "text/plain": [
       "<Figure size 1000x600 with 0 Axes>"
      ]
     },
     "metadata": {},
     "output_type": "display_data"
    },
    {
     "data": {
      "image/png": "[encoded data removed]",
      "text/plain": [
       "<Figure size 640x480 with 1 Axes>"
      ]
     },
     "metadata": {},
     "output_type": "display_data"
    }
   ],
   "source": [
    "import pandas as pd\n",
    "import matplotlib.pyplot as plt\n",
    "\n",
    "data = pd.read_csv('NationalNames.csv')\n",
    "\n",
    "john_female = data[(data['Name'] == 'John') & (data['Gender'] == 'F')]\n",
    "mary_male = data[(data['Name'] == 'Mary') & (data['Gender'] == 'M')]\n",
    "\n",
    "combined_data = pd.concat([john_female.groupby('Year')['Count'].sum(), \n",
    "                           mary_male.groupby('Year')['Count'].sum()], axis=1)\n",
    "combined_data.columns = ['John (жінки)', 'Mary (чоловіки)']\n",
    "\n",
    "plt.figure(figsize=(10, 6))\n",
    "combined_data.plot()\n",
    "\n",
    "plt.title('Динаміка популярності імен John (жінки) та Mary (чоловіки) за роками')\n",
    "plt.xlabel('Рік')\n",
    "plt.ylabel('Кількість')\n",
    "plt.legend()\n",
    "plt.grid(True)\n",
    "\n",
    "plt.show()"
   ]
  },
  {
   "cell_type": "markdown",
   "id": "f3fc393a-23cd-428f-9555-df7793664ab1",
   "metadata": {},
   "source": [
    "#### Вправа 27"
   ]
  },
  {
   "cell_type": "code",
   "execution_count": 20,
   "id": "fd4a0081-ff58-4462-9883-2ab5ed9c729f",
   "metadata": {},
   "outputs": [
    {
     "name": "stdout",
     "output_type": "stream",
     "text": [
      "Найпопулярніші імена в кожному році:\n",
      "         Year      Name  Count\n",
      "955      1880      John   9701\n",
      "2818     1881      John   8795\n",
      "4735     1882      John   9597\n",
      "6727     1883      John   8934\n",
      "8775     1884      John   9428\n",
      "...       ...       ...    ...\n",
      "1521288  2010  Isabella  22913\n",
      "1568092  2011    Sophia  21839\n",
      "1599369  2012    Sophia  22285\n",
      "1630271  2013    Sophia  21172\n",
      "1643629  2014      Emma  20811\n",
      "\n",
      "[135 rows x 3 columns]\n"
     ]
    }
   ],
   "source": [
    "import pandas as pd\n",
    "\n",
    "data = pd.read_csv('NationalNames.csv')\n",
    "\n",
    "grouped = data.groupby(['Year', 'Name'])['Count'].sum().reset_index()\n",
    "\n",
    "most_popular_names = grouped.loc[grouped.groupby('Year')['Count'].idxmax()]\n",
    "\n",
    "print(\"Найпопулярніші імена в кожному році:\")\n",
    "print(most_popular_names[['Year', 'Name', 'Count']])"
   ]
  },
  {
   "cell_type": "code",
   "execution_count": null,
   "id": "0582b49e-f4fa-4c83-a54a-b2fccf77199e",
   "metadata": {},
   "outputs": [],
   "source": []
  }
 ],
 "metadata": {
  "kernelspec": {
   "display_name": "Python 3 (ipykernel)",
   "language": "python",
   "name": "python3"
  },
  "language_info": {
   "codemirror_mode": {
    "name": "ipython",
    "version": 3
   },
   "file_extension": ".py",
   "mimetype": "text/x-python",
   "name": "python",
   "nbconvert_exporter": "python",
   "pygments_lexer": "ipython3",
   "version": "3.12.8"
  }
 },
 "nbformat": 4,
 "nbformat_minor": 5
}
